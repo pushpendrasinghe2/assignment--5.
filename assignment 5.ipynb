{
 "cells": [
  {
   "cell_type": "code",
   "execution_count": 1,
   "id": "2b9c109a",
   "metadata": {},
   "outputs": [],
   "source": [
    "##1. What does an empty dictionary's code look like?"
   ]
  },
  {
   "cell_type": "code",
   "execution_count": 2,
   "id": "fe380097",
   "metadata": {},
   "outputs": [],
   "source": [
    "##ans- an emapty dictionary code look like {} this."
   ]
  },
  {
   "cell_type": "code",
   "execution_count": 3,
   "id": "2963d752",
   "metadata": {},
   "outputs": [],
   "source": [
    "##2. What is the value of a dictionary value with the key 'foo' and the value 42?"
   ]
  },
  {
   "cell_type": "code",
   "execution_count": 4,
   "id": "bc9662f9",
   "metadata": {},
   "outputs": [],
   "source": [
    "##ans-{'foo': 42}"
   ]
  },
  {
   "cell_type": "code",
   "execution_count": 5,
   "id": "167a3e16",
   "metadata": {},
   "outputs": [],
   "source": [
    "##3. What is the most significant distinction between a dictionary and a list?"
   ]
  },
  {
   "cell_type": "code",
   "execution_count": 6,
   "id": "637a0ba1",
   "metadata": {},
   "outputs": [],
   "source": [
    "##ans-The items stored in a dictionary are unordered , while the items in a list are ordered."
   ]
  },
  {
   "cell_type": "code",
   "execution_count": 7,
   "id": "10fb1593",
   "metadata": {},
   "outputs": [],
   "source": [
    "##4. What happens if you try to access spam['foo'] if spam is {'bar': 100}?"
   ]
  },
  {
   "cell_type": "code",
   "execution_count": 8,
   "id": "774d9e6f",
   "metadata": {},
   "outputs": [],
   "source": [
    "##ansYou get a keyerror error."
   ]
  },
  {
   "cell_type": "code",
   "execution_count": 1,
   "id": "8aa23f45",
   "metadata": {},
   "outputs": [],
   "source": [
    "spam ={'bar':100}"
   ]
  },
  {
   "cell_type": "code",
   "execution_count": 2,
   "id": "ae253c89",
   "metadata": {},
   "outputs": [
    {
     "ename": "KeyError",
     "evalue": "'foo'",
     "output_type": "error",
     "traceback": [
      "\u001b[0;31m---------------------------------------------------------------------------\u001b[0m",
      "\u001b[0;31mKeyError\u001b[0m                                  Traceback (most recent call last)",
      "Cell \u001b[0;32mIn[2], line 1\u001b[0m\n\u001b[0;32m----> 1\u001b[0m \u001b[43mspam\u001b[49m\u001b[43m[\u001b[49m\u001b[38;5;124;43m'\u001b[39;49m\u001b[38;5;124;43mfoo\u001b[39;49m\u001b[38;5;124;43m'\u001b[39;49m\u001b[43m]\u001b[49m\n",
      "\u001b[0;31mKeyError\u001b[0m: 'foo'"
     ]
    }
   ],
   "source": [
    "spam['foo']"
   ]
  },
  {
   "cell_type": "code",
   "execution_count": 13,
   "id": "ad345b05",
   "metadata": {},
   "outputs": [],
   "source": [
    "##5. If a dictionary is stored in spam, what is the difference between\n",
    "##the expressions 'cat' in spam and 'cat' in spam.keys()?"
   ]
  },
  {
   "cell_type": "code",
   "execution_count": null,
   "id": "ca479bfc",
   "metadata": {},
   "outputs": [],
   "source": [
    "##ans-There is no difference. The in operator checks whether a value\n",
    "##exists as a key in the dictionary."
   ]
  },
  {
   "cell_type": "code",
   "execution_count": null,
   "id": "c08d77a8",
   "metadata": {},
   "outputs": [],
   "source": [
    "##6. If a dictionary is stored in spam, what is the difference between\n",
    "##the expressions 'cat' in spam and 'cat' in spam.values()?"
   ]
  },
  {
   "cell_type": "code",
   "execution_count": 14,
   "id": "84a789f0",
   "metadata": {},
   "outputs": [],
   "source": [
    "##ans-'cat' in spam checks whether there is a 'cat' key in the dictionary,\n",
    "##while 'cat' in spam.values() checks whether there is a value 'cat' for one of the keys in spam."
   ]
  },
  {
   "cell_type": "code",
   "execution_count": 3,
   "id": "edfd2b35",
   "metadata": {},
   "outputs": [],
   "source": [
    "##7. What is a shortcut for the following code?\n",
    "if 'color' not in spam:\n",
    "    \n",
    "    spam['color'] = 'black'"
   ]
  },
  {
   "cell_type": "code",
   "execution_count": 4,
   "id": "93d307c1",
   "metadata": {},
   "outputs": [],
   "source": [
    "##ans-spam.setdefault('color', 'black')"
   ]
  },
  {
   "cell_type": "code",
   "execution_count": 5,
   "id": "397cbce8",
   "metadata": {},
   "outputs": [],
   "source": [
    "##8. How do you \"pretty print\" dictionary values using which module and function?"
   ]
  },
  {
   "cell_type": "code",
   "execution_count": null,
   "id": "65ca9a59",
   "metadata": {},
   "outputs": [],
   "source": [
    "##ans-The module used is the pprint module within which we have the pprint function of the same name \n",
    "##example- pprint.pprint()"
   ]
  }
 ],
 "metadata": {
  "kernelspec": {
   "display_name": "Python 3 (ipykernel)",
   "language": "python",
   "name": "python3"
  },
  "language_info": {
   "codemirror_mode": {
    "name": "ipython",
    "version": 3
   },
   "file_extension": ".py",
   "mimetype": "text/x-python",
   "name": "python",
   "nbconvert_exporter": "python",
   "pygments_lexer": "ipython3",
   "version": "3.10.9"
  }
 },
 "nbformat": 4,
 "nbformat_minor": 5
}
